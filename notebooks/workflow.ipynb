{
 "cells": [
  {
   "metadata": {},
   "cell_type": "markdown",
   "source": "# Workflow",
   "id": "f6594ed2f2283e7e"
  },
  {
   "metadata": {
    "ExecuteTime": {
     "end_time": "2024-07-14T22:32:50.399537Z",
     "start_time": "2024-07-14T22:32:50.379270Z"
    }
   },
   "cell_type": "code",
   "source": [
    "%load_ext autoreload\n",
    "\n",
    "%autoreload 2"
   ],
   "id": "c3d3f5113374cfa0",
   "outputs": [],
   "execution_count": 1
  },
  {
   "metadata": {
    "ExecuteTime": {
     "end_time": "2024-07-14T22:32:56.684833Z",
     "start_time": "2024-07-14T22:32:50.401969Z"
    }
   },
   "cell_type": "code",
   "source": [
    "import warnings\n",
    "\n",
    "import pandas as pd\n",
    "\n",
    "from scripts.data_repo import DataRepository\n",
    "from scripts.transform import TransformData\n",
    "from scripts.train import SimulationParams, TrainModel"
   ],
   "id": "6f8690199b69ba62",
   "outputs": [],
   "execution_count": 2
  },
  {
   "metadata": {},
   "cell_type": "markdown",
   "source": "Workflow configuration",
   "id": "6a49b14d5592d686"
  },
  {
   "metadata": {
    "ExecuteTime": {
     "end_time": "2024-07-14T22:32:56.705804Z",
     "start_time": "2024-07-14T22:32:56.686303Z"
    }
   },
   "cell_type": "code",
   "source": [
    "# Set the local data folder\n",
    "LOCAL_DATA_FOLDER = \"<path to local folder>/data/\""
   ],
   "id": "ea3cdf0eb536c0ff",
   "outputs": [],
   "execution_count": 3
  },
  {
   "metadata": {
    "ExecuteTime": {
     "end_time": "2024-07-14T22:32:56.807820Z",
     "start_time": "2024-07-14T22:32:56.707103Z"
    }
   },
   "cell_type": "code",
   "source": [
    "# Set the way of data load: set FETCH_REPO = True for full data load, if False - existing file from disk will be loaded.\n",
    "FETCH_REPO = False"
   ],
   "id": "862fce493e916fc9",
   "outputs": [],
   "execution_count": 4
  },
  {
   "metadata": {
    "ExecuteTime": {
     "end_time": "2024-07-14T22:32:56.997384Z",
     "start_time": "2024-07-14T22:32:56.818773Z"
    }
   },
   "cell_type": "code",
   "source": [
    "# if True, data will be transformed into a single dataset, if False, the dataset will be loaded from the local storage\n",
    "TRANSFORM_DATA = False"
   ],
   "id": "7a74f8f441b111cc",
   "outputs": [],
   "execution_count": 5
  },
  {
   "metadata": {
    "ExecuteTime": {
     "end_time": "2024-07-14T22:32:57.104935Z",
     "start_time": "2024-07-14T22:32:57.002558Z"
    }
   },
   "cell_type": "code",
   "source": [
    "# if True, the model will be trained, if False, the model will be loaded from the local storage\n",
    "TRAIN_MODEL = False"
   ],
   "id": "5c1308bd1898e604",
   "outputs": [],
   "execution_count": 6
  },
  {
   "metadata": {},
   "cell_type": "markdown",
   "source": "## Step 1: Getting data from APIs or Load from disk",
   "id": "87a8fe9ada739ea7"
  },
  {
   "metadata": {
    "ExecuteTime": {
     "end_time": "2024-07-14T22:32:58.621742Z",
     "start_time": "2024-07-14T22:32:57.110203Z"
    }
   },
   "cell_type": "code",
   "source": [
    "repo = DataRepository()\n",
    "\n",
    "if FETCH_REPO:\n",
    "    # Fetch All 3 datasets for all dates from APIs\n",
    "    repo.fetch()\n",
    "    # save data to a local dir\n",
    "    repo.persist(data_dir=LOCAL_DATA_FOLDER)\n",
    "else:\n",
    "    # OR Load from disk\n",
    "    repo.load(data_dir=LOCAL_DATA_FOLDER)"
   ],
   "id": "a2d0e5f2ab3132f6",
   "outputs": [],
   "execution_count": 7
  },
  {
   "metadata": {},
   "cell_type": "markdown",
   "source": "## Step2: Transform data into one dataframe",
   "id": "7f730a8e4cb52400"
  },
  {
   "metadata": {
    "ExecuteTime": {
     "end_time": "2024-07-14T22:33:00.015778Z",
     "start_time": "2024-07-14T22:32:58.627997Z"
    }
   },
   "cell_type": "code",
   "source": [
    "transformed = TransformData(repo=repo)\n",
    "\n",
    "if TRANSFORM_DATA:\n",
    "    transformed.transform()\n",
    "    transformed.persist(data_dir=LOCAL_DATA_FOLDER)\n",
    "else:\n",
    "    transformed.load(data_dir=LOCAL_DATA_FOLDER)"
   ],
   "id": "fe3866ed5f17157b",
   "outputs": [],
   "execution_count": 8
  },
  {
   "metadata": {},
   "cell_type": "markdown",
   "source": "## Step3: Train/Load Model",
   "id": "c261140f3b761e1c"
  },
  {
   "metadata": {
    "ExecuteTime": {
     "end_time": "2024-07-14T22:33:17.183915Z",
     "start_time": "2024-07-14T22:33:00.018035Z"
    }
   },
   "cell_type": "code",
   "source": [
    "# Suppress all warnings (not recommended in production unless necessary)\n",
    "warnings.filterwarnings(\"ignore\")\n",
    "\n",
    "trained = TrainModel(transformed=transformed)\n",
    "\n",
    "if TRAIN_MODEL:\n",
    "    trained.prepare_dataframe()  # prepare dataframes\n",
    "    trained.train_random_forest()  # train the model\n",
    "    trained.persist(data_dir=LOCAL_DATA_FOLDER)  # save the model to disk\n",
    "else:\n",
    "    trained.prepare_dataframe()  # prepare dataframes (incl. for inference)\n",
    "    trained.load(data_dir=LOCAL_DATA_FOLDER)"
   ],
   "id": "69a346151fc3a0bc",
   "outputs": [
    {
     "name": "stdout",
     "output_type": "stream",
     "text": [
      "Prepare the dataframe: define feature sets, add dummies, temporal split\n",
      "length: X_train (310371, 352),  X_validation (76372, 352), X_test (76947, 352)\n",
      "  X_train_valid = (386743, 352),  all combined: X_all (463690, 352)\n"
     ]
    }
   ],
   "execution_count": 9
  },
  {
   "metadata": {},
   "cell_type": "markdown",
   "source": "## Step4: Inference",
   "id": "1760ff0ddc0bc9e8"
  },
  {
   "metadata": {},
   "cell_type": "markdown",
   "source": "Inference and simulation settings",
   "id": "37ba977f59a24ba2"
  },
  {
   "metadata": {
    "ExecuteTime": {
     "end_time": "2024-07-14T22:33:17.223804Z",
     "start_time": "2024-07-14T22:33:17.189413Z"
    }
   },
   "cell_type": "code",
   "source": [
    "sim_params = SimulationParams(\n",
    "    initial_capital = 10000,        # initial capital = $10k\n",
    "    threshold = 0.55,               # select all binary predictions with probability>=0.55\n",
    "    fees = 0.002,                   # trading fees = 0.2% (buy+sell)\n",
    "    top_k = 5,                      # select top_k predictions\n",
    "    portfolio_optimization=False,   # DOES NOT WORK now\n",
    "    stop_loss = 0.8,                # automatic sell (with loss) if price (any of next 5 days) is lower than -5% from Adj.Close\n",
    "    take_profit = 1.02,             # automatic sell (with profit) if price (any of next 5 days) is higher than +20% from Adj.Close\n",
    "    lower_entry = 0.99       # buy next day with the price = [Adj.Close] * 0.995 (try to buy cheaper)\n",
    ")"
   ],
   "id": "f237066ac578a670",
   "outputs": [],
   "execution_count": 10
  },
  {
   "metadata": {
    "ExecuteTime": {
     "end_time": "2024-07-14T22:33:29.646487Z",
     "start_time": "2024-07-14T22:33:17.225955Z"
    }
   },
   "cell_type": "code",
   "source": "trained.make_inference(sim_params)",
   "id": "116ed7b91609c095",
   "outputs": [
    {
     "name": "stdout",
     "output_type": "stream",
     "text": [
      "Making inference\n"
     ]
    }
   ],
   "execution_count": 11
  },
  {
   "metadata": {
    "ExecuteTime": {
     "end_time": "2024-07-14T22:33:29.802083Z",
     "start_time": "2024-07-14T22:33:29.648149Z"
    }
   },
   "cell_type": "code",
   "source": [
    "print('Results of the estimation (last 10):')\n",
    "# Set display options to prevent truncation\n",
    "pd.set_option('display.max_rows', None)\n",
    "pd.set_option('display.max_columns', None)\n",
    "pd.set_option('display.max_colwidth', None)\n",
    "\n",
    "predicted_signals = trained.get_last_signals(num=10)\n",
    "\n",
    "predicted_signals.tail(10)"
   ],
   "id": "c1279a6d7bb93844",
   "outputs": [
    {
     "name": "stdout",
     "output_type": "stream",
     "text": [
      "Results of the estimation (last 10):\n"
     ]
    },
    {
     "data": {
      "text/plain": [
       "        Adj Close         Ticker                      Date  pred_rf_best  \\\n",
       "5458  3531.600098          LT.NS 2024-06-24 00:00:00+00:00             1   \n",
       "6396   126.089996           NVDA 2024-06-25 00:00:00+00:00             1   \n",
       "9650   139.785324           ORCL 2024-06-27 00:00:00+00:00             1   \n",
       "9650   446.950012           MSFT 2024-06-28 00:00:00+00:00             1   \n",
       "7373  1022.729980           ASML 2024-06-28 00:00:00+00:00             1   \n",
       "6299   408.000000          OR.PA 2024-07-04 00:00:00+00:00             1   \n",
       "5463  1423.050049  BHARTIARTL.NS 2024-07-04 00:00:00+00:00             1   \n",
       "7159   839.299988        SBIN.NS 2024-07-04 00:00:00+00:00             1   \n",
       "6305   724.799988          MC.PA 2024-07-12 00:00:00+00:00             1   \n",
       "8375   675.500000         CDI.PA 2024-07-12 00:00:00+00:00             1   \n",
       "\n",
       "      pred_rf_best_rank  \n",
       "5458                4.0  \n",
       "6396                1.0  \n",
       "9650                1.0  \n",
       "9650                1.0  \n",
       "7373                2.0  \n",
       "6299                1.0  \n",
       "5463                2.0  \n",
       "7159                3.0  \n",
       "6305                1.0  \n",
       "8375                2.0  "
      ],
      "text/html": [
       "<div>\n",
       "<style scoped>\n",
       "    .dataframe tbody tr th:only-of-type {\n",
       "        vertical-align: middle;\n",
       "    }\n",
       "\n",
       "    .dataframe tbody tr th {\n",
       "        vertical-align: top;\n",
       "    }\n",
       "\n",
       "    .dataframe thead th {\n",
       "        text-align: right;\n",
       "    }\n",
       "</style>\n",
       "<table border=\"1\" class=\"dataframe\">\n",
       "  <thead>\n",
       "    <tr style=\"text-align: right;\">\n",
       "      <th></th>\n",
       "      <th>Adj Close</th>\n",
       "      <th>Ticker</th>\n",
       "      <th>Date</th>\n",
       "      <th>pred_rf_best</th>\n",
       "      <th>pred_rf_best_rank</th>\n",
       "    </tr>\n",
       "  </thead>\n",
       "  <tbody>\n",
       "    <tr>\n",
       "      <th>5458</th>\n",
       "      <td>3531.600098</td>\n",
       "      <td>LT.NS</td>\n",
       "      <td>2024-06-24 00:00:00+00:00</td>\n",
       "      <td>1</td>\n",
       "      <td>4.0</td>\n",
       "    </tr>\n",
       "    <tr>\n",
       "      <th>6396</th>\n",
       "      <td>126.089996</td>\n",
       "      <td>NVDA</td>\n",
       "      <td>2024-06-25 00:00:00+00:00</td>\n",
       "      <td>1</td>\n",
       "      <td>1.0</td>\n",
       "    </tr>\n",
       "    <tr>\n",
       "      <th>9650</th>\n",
       "      <td>139.785324</td>\n",
       "      <td>ORCL</td>\n",
       "      <td>2024-06-27 00:00:00+00:00</td>\n",
       "      <td>1</td>\n",
       "      <td>1.0</td>\n",
       "    </tr>\n",
       "    <tr>\n",
       "      <th>9650</th>\n",
       "      <td>446.950012</td>\n",
       "      <td>MSFT</td>\n",
       "      <td>2024-06-28 00:00:00+00:00</td>\n",
       "      <td>1</td>\n",
       "      <td>1.0</td>\n",
       "    </tr>\n",
       "    <tr>\n",
       "      <th>7373</th>\n",
       "      <td>1022.729980</td>\n",
       "      <td>ASML</td>\n",
       "      <td>2024-06-28 00:00:00+00:00</td>\n",
       "      <td>1</td>\n",
       "      <td>2.0</td>\n",
       "    </tr>\n",
       "    <tr>\n",
       "      <th>6299</th>\n",
       "      <td>408.000000</td>\n",
       "      <td>OR.PA</td>\n",
       "      <td>2024-07-04 00:00:00+00:00</td>\n",
       "      <td>1</td>\n",
       "      <td>1.0</td>\n",
       "    </tr>\n",
       "    <tr>\n",
       "      <th>5463</th>\n",
       "      <td>1423.050049</td>\n",
       "      <td>BHARTIARTL.NS</td>\n",
       "      <td>2024-07-04 00:00:00+00:00</td>\n",
       "      <td>1</td>\n",
       "      <td>2.0</td>\n",
       "    </tr>\n",
       "    <tr>\n",
       "      <th>7159</th>\n",
       "      <td>839.299988</td>\n",
       "      <td>SBIN.NS</td>\n",
       "      <td>2024-07-04 00:00:00+00:00</td>\n",
       "      <td>1</td>\n",
       "      <td>3.0</td>\n",
       "    </tr>\n",
       "    <tr>\n",
       "      <th>6305</th>\n",
       "      <td>724.799988</td>\n",
       "      <td>MC.PA</td>\n",
       "      <td>2024-07-12 00:00:00+00:00</td>\n",
       "      <td>1</td>\n",
       "      <td>1.0</td>\n",
       "    </tr>\n",
       "    <tr>\n",
       "      <th>8375</th>\n",
       "      <td>675.500000</td>\n",
       "      <td>CDI.PA</td>\n",
       "      <td>2024-07-12 00:00:00+00:00</td>\n",
       "      <td>1</td>\n",
       "      <td>2.0</td>\n",
       "    </tr>\n",
       "  </tbody>\n",
       "</table>\n",
       "</div>"
      ]
     },
     "execution_count": 12,
     "metadata": {},
     "output_type": "execute_result"
    }
   ],
   "execution_count": 12
  },
  {
   "metadata": {
    "ExecuteTime": {
     "end_time": "2024-07-14T22:34:00.116206Z",
     "start_time": "2024-07-14T22:33:29.803905Z"
    }
   },
   "cell_type": "code",
   "source": "res, capital = trained.simulate(sim_params)",
   "id": "ab2cdd26966e611f",
   "outputs": [
    {
     "name": "stdout",
     "output_type": "stream",
     "text": [
      "============================================================================================\n",
      "SIMULATION STARTED\n",
      "Simulations params: SimulationParams(initial_capital=10000, threshold=0.55, fees=0.002, top_k=5, portfolio_optimization=False, stop_loss=0.8, take_profit=1.02, lower_entry=0.99)\n",
      " Count bids 2344 in total, avg.bids per day 4.0,  filled bids 556, fill bids percent = 0.23720136518771331\n",
      "  Stop loss events: count = 5, net loss = -61.65552172436992 \n",
      "  Take profit events: count = 408, net profit = 6326.845394636592 \n",
      "  Start capital = 10000, Resulting capital: 14232.156879391594 \n",
      "  CAGR in 4 years: 1.092 or 9.22 % of avg. growth per year\n",
      "============================================================================================\n"
     ]
    }
   ],
   "execution_count": 13
  },
  {
   "metadata": {
    "ExecuteTime": {
     "end_time": "2024-07-14T22:34:00.121759Z",
     "start_time": "2024-07-14T22:34:00.119050Z"
    }
   },
   "cell_type": "code",
   "source": "",
   "id": "998e53fec9cc036e",
   "outputs": [],
   "execution_count": 13
  }
 ],
 "metadata": {
  "kernelspec": {
   "display_name": "Python 3",
   "language": "python",
   "name": "python3"
  },
  "language_info": {
   "codemirror_mode": {
    "name": "ipython",
    "version": 2
   },
   "file_extension": ".py",
   "mimetype": "text/x-python",
   "name": "python",
   "nbconvert_exporter": "python",
   "pygments_lexer": "ipython2",
   "version": "2.7.6"
  }
 },
 "nbformat": 4,
 "nbformat_minor": 5
}
