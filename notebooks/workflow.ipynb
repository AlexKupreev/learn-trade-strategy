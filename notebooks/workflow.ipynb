{
 "cells": [
  {
   "metadata": {},
   "cell_type": "markdown",
   "source": "# Workflow",
   "id": "f6594ed2f2283e7e"
  },
  {
   "metadata": {
    "ExecuteTime": {
     "end_time": "2024-07-15T07:40:01.467592Z",
     "start_time": "2024-07-15T07:40:01.450333Z"
    }
   },
   "cell_type": "code",
   "source": [
    "%load_ext autoreload\n",
    "\n",
    "%autoreload 2"
   ],
   "id": "c3d3f5113374cfa0",
   "outputs": [],
   "execution_count": 1
  },
  {
   "metadata": {
    "ExecuteTime": {
     "end_time": "2024-07-15T07:40:03.416747Z",
     "start_time": "2024-07-15T07:40:01.549995Z"
    }
   },
   "cell_type": "code",
   "source": [
    "import warnings\n",
    "\n",
    "import pandas as pd\n",
    "\n",
    "from scripts.data_repo import DataRepository\n",
    "from scripts.transform import TransformData\n",
    "from scripts.train import SimulationParams, TrainModel"
   ],
   "id": "6f8690199b69ba62",
   "outputs": [],
   "execution_count": 2
  },
  {
   "metadata": {},
   "cell_type": "markdown",
   "source": "Workflow configuration",
   "id": "6a49b14d5592d686"
  },
  {
   "metadata": {
    "ExecuteTime": {
     "end_time": "2024-07-15T07:40:03.440853Z",
     "start_time": "2024-07-15T07:40:03.418963Z"
    }
   },
   "cell_type": "code",
   "source": [
    "# Set the local data folder\n",
    "LOCAL_DATA_FOLDER = \"<path-to-folder>/data/\""
   ],
   "id": "ea3cdf0eb536c0ff",
   "outputs": [],
   "execution_count": 3
  },
  {
   "metadata": {
    "ExecuteTime": {
     "end_time": "2024-07-15T07:40:03.536858Z",
     "start_time": "2024-07-15T07:40:03.442366Z"
    }
   },
   "cell_type": "code",
   "source": [
    "# Set the way of data load: set FETCH_REPO = True for full data load, if False - existing file from disk will be loaded.\n",
    "FETCH_REPO = True"
   ],
   "id": "862fce493e916fc9",
   "outputs": [],
   "execution_count": 4
  },
  {
   "metadata": {
    "ExecuteTime": {
     "end_time": "2024-07-15T07:40:03.635277Z",
     "start_time": "2024-07-15T07:40:03.540054Z"
    }
   },
   "cell_type": "code",
   "source": [
    "# if True, data will be transformed into a single dataset, if False, the dataset will be loaded from the local storage\n",
    "TRANSFORM_DATA = True"
   ],
   "id": "7a74f8f441b111cc",
   "outputs": [],
   "execution_count": 5
  },
  {
   "metadata": {
    "ExecuteTime": {
     "end_time": "2024-07-15T07:40:03.734591Z",
     "start_time": "2024-07-15T07:40:03.637298Z"
    }
   },
   "cell_type": "code",
   "source": [
    "# if True, the model will be trained, if False, the model will be loaded from the local storage\n",
    "TRAIN_MODEL = True"
   ],
   "id": "5c1308bd1898e604",
   "outputs": [],
   "execution_count": 6
  },
  {
   "metadata": {},
   "cell_type": "markdown",
   "source": "## Step 1: Getting data from APIs or Load from disk",
   "id": "87a8fe9ada739ea7"
  },
  {
   "metadata": {
    "ExecuteTime": {
     "end_time": "2024-07-15T07:42:41.135920Z",
     "start_time": "2024-07-15T07:40:03.737388Z"
    }
   },
   "cell_type": "code",
   "source": [
    "repo = DataRepository()\n",
    "\n",
    "if FETCH_REPO:\n",
    "    # Fetch All 3 datasets for all dates from APIs\n",
    "    repo.fetch()\n",
    "    # save data to a local dir\n",
    "    repo.persist(data_dir=LOCAL_DATA_FOLDER)\n",
    "else:\n",
    "    # OR Load from disk\n",
    "    repo.load(data_dir=LOCAL_DATA_FOLDER)"
   ],
   "id": "a2d0e5f2ab3132f6",
   "outputs": [
    {
     "name": "stdout",
     "output_type": "stream",
     "text": [
      "Fetching Tickers info from YFinance\n",
      "Going download data for these tickers: ['MSFT', 'AAPL', 'GOOG', 'NVDA', 'AMZN', 'META', 'BRK-B', 'LLY', 'AVGO', 'V', 'JPM', 'TSLA', 'WMT', 'XOM', 'UNH', 'MA', 'PG', 'ORCL', 'COST', 'JNJ', 'HD', 'MRK', 'BAC', 'ABBV', 'CVX', 'NFLX', 'KO', 'AMD', 'ADBE', 'CRM', 'PEP', 'QCOM', 'TMO', 'TMUS', 'WFC', 'CSCO', 'AMAT', 'DHR', 'MCD', 'DIS', 'ABT', 'TXN', 'GE', ' INTU', 'VZ', 'AMGN', 'AXP', 'CAT', 'IBM', 'PFE', 'PM', 'MS', 'NVO', 'MC.PA', 'ASML', 'RMS.PA', 'OR.PA', 'SAP', 'ACN', 'TTE', 'SIE.DE', 'IDEXY', 'CDI.PA', 'RELIANCE.NS', 'TCS.NS', 'HDB', 'BHARTIARTL.NS', 'IBN', 'SBIN.NS', 'LICI.NS', 'INFY', 'ITC.NS', 'HINDUNILVR.NS', 'LT.NS', 'TCEHY', '1398.HK', '601857.SS', '600519.SS', '0941.HK', '601288.SS', 'PDD', 'BABA', '601939.SS', '601988.SS']\n"
     ]
    },
    {
     "name": "stderr",
     "output_type": "stream",
     "text": [
      "[*********************100%%**********************]  1 of 1 completed\n",
      "[*********************100%%**********************]  1 of 1 completed\n",
      "[*********************100%%**********************]  1 of 1 completed\n",
      "[*********************100%%**********************]  1 of 1 completed\n",
      "[*********************100%%**********************]  1 of 1 completed\n",
      "[*********************100%%**********************]  1 of 1 completed\n",
      "[*********************100%%**********************]  1 of 1 completed\n",
      "[*********************100%%**********************]  1 of 1 completed\n",
      "[*********************100%%**********************]  1 of 1 completed\n",
      "[*********************100%%**********************]  1 of 1 completed\n",
      "[*********************100%%**********************]  1 of 1 completed\n",
      "[*********************100%%**********************]  1 of 1 completed\n",
      "[*********************100%%**********************]  1 of 1 completed\n",
      "[*********************100%%**********************]  1 of 1 completed\n",
      "[*********************100%%**********************]  1 of 1 completed\n",
      "[*********************100%%**********************]  1 of 1 completed\n",
      "[*********************100%%**********************]  1 of 1 completed\n",
      "[*********************100%%**********************]  1 of 1 completed\n",
      "[*********************100%%**********************]  1 of 1 completed\n",
      "[*********************100%%**********************]  1 of 1 completed\n",
      "[*********************100%%**********************]  1 of 1 completed\n",
      "[*********************100%%**********************]  1 of 1 completed\n",
      "[*********************100%%**********************]  1 of 1 completed\n",
      "[*********************100%%**********************]  1 of 1 completed\n",
      "[*********************100%%**********************]  1 of 1 completed\n",
      "[*********************100%%**********************]  1 of 1 completed\n",
      "[*********************100%%**********************]  1 of 1 completed\n",
      "[*********************100%%**********************]  1 of 1 completed\n",
      "[*********************100%%**********************]  1 of 1 completed\n",
      "[*********************100%%**********************]  1 of 1 completed\n",
      "[*********************100%%**********************]  1 of 1 completed\n",
      "[*********************100%%**********************]  1 of 1 completed\n",
      "[*********************100%%**********************]  1 of 1 completed\n",
      "[*********************100%%**********************]  1 of 1 completed\n",
      "[*********************100%%**********************]  1 of 1 completed\n",
      "[*********************100%%**********************]  1 of 1 completed\n",
      "[*********************100%%**********************]  1 of 1 completed\n",
      "[*********************100%%**********************]  1 of 1 completed\n",
      "[*********************100%%**********************]  1 of 1 completed\n",
      "[*********************100%%**********************]  1 of 1 completed\n",
      "[*********************100%%**********************]  1 of 1 completed\n",
      "[*********************100%%**********************]  1 of 1 completed\n",
      "[*********************100%%**********************]  1 of 1 completed\n",
      "[*********************100%%**********************]  1 of 1 completed\n",
      "[*********************100%%**********************]  1 of 1 completed\n",
      "[*********************100%%**********************]  1 of 1 completed\n",
      "[*********************100%%**********************]  1 of 1 completed\n",
      "[*********************100%%**********************]  1 of 1 completed\n",
      "[*********************100%%**********************]  1 of 1 completed\n",
      "[*********************100%%**********************]  1 of 1 completed\n",
      "[*********************100%%**********************]  1 of 1 completed\n",
      "[*********************100%%**********************]  1 of 1 completed\n",
      "[*********************100%%**********************]  1 of 1 completed\n",
      "[*********************100%%**********************]  1 of 1 completed\n",
      "[*********************100%%**********************]  1 of 1 completed\n",
      "[*********************100%%**********************]  1 of 1 completed\n",
      "[*********************100%%**********************]  1 of 1 completed\n",
      "[*********************100%%**********************]  1 of 1 completed\n",
      "[*********************100%%**********************]  1 of 1 completed\n",
      "[*********************100%%**********************]  1 of 1 completed\n",
      "[*********************100%%**********************]  1 of 1 completed\n",
      "[*********************100%%**********************]  1 of 1 completed\n",
      "[*********************100%%**********************]  1 of 1 completed\n",
      "[*********************100%%**********************]  1 of 1 completed\n",
      "[*********************100%%**********************]  1 of 1 completed\n",
      "[*********************100%%**********************]  1 of 1 completed\n",
      "[*********************100%%**********************]  1 of 1 completed\n",
      "[*********************100%%**********************]  1 of 1 completed\n",
      "[*********************100%%**********************]  1 of 1 completed\n",
      "[*********************100%%**********************]  1 of 1 completed\n",
      "[*********************100%%**********************]  1 of 1 completed\n",
      "[*********************100%%**********************]  1 of 1 completed\n",
      "[*********************100%%**********************]  1 of 1 completed\n",
      "[*********************100%%**********************]  1 of 1 completed\n",
      "[*********************100%%**********************]  1 of 1 completed\n",
      "[*********************100%%**********************]  1 of 1 completed\n",
      "[*********************100%%**********************]  1 of 1 completed\n",
      "[*********************100%%**********************]  1 of 1 completed\n",
      "[*********************100%%**********************]  1 of 1 completed\n",
      "[*********************100%%**********************]  1 of 1 completed\n",
      "[*********************100%%**********************]  1 of 1 completed\n",
      "[*********************100%%**********************]  1 of 1 completed\n",
      "[*********************100%%**********************]  1 of 1 completed\n",
      "[*********************100%%**********************]  1 of 1 completed\n",
      "601988.SS: 100%|██████████| 84/84 [02:02<00:00,  1.46s/it]\n"
     ]
    },
    {
     "name": "stdout",
     "output_type": "stream",
     "text": [
      "Fetching Indexes info from YFinance\n"
     ]
    },
    {
     "name": "stderr",
     "output_type": "stream",
     "text": [
      "[*********************100%%**********************]  1 of 1 completed\n",
      "[*********************100%%**********************]  1 of 1 completed\n",
      "[*********************100%%**********************]  1 of 1 completed\n",
      "[*********************100%%**********************]  1 of 1 completed\n",
      "[*********************100%%**********************]  1 of 1 completed\n",
      "[*********************100%%**********************]  1 of 1 completed\n",
      "[*********************100%%**********************]  1 of 1 completed\n",
      "[*********************100%%**********************]  1 of 1 completed\n",
      "[*********************100%%**********************]  1 of 1 completed\n"
     ]
    },
    {
     "name": "stdout",
     "output_type": "stream",
     "text": [
      "Fetching Macro info from FRED (Pandas_datareader)\n"
     ]
    }
   ],
   "execution_count": 7
  },
  {
   "metadata": {},
   "cell_type": "markdown",
   "source": "## Step2: Transform data into one dataframe",
   "id": "7f730a8e4cb52400"
  },
  {
   "metadata": {
    "ExecuteTime": {
     "end_time": "2024-07-15T07:43:28.044044Z",
     "start_time": "2024-07-15T07:42:41.137488Z"
    }
   },
   "cell_type": "code",
   "source": [
    "transformed = TransformData(repo=repo)\n",
    "\n",
    "if TRANSFORM_DATA:\n",
    "    transformed.transform()\n",
    "    transformed.persist(data_dir=LOCAL_DATA_FOLDER)\n",
    "else:\n",
    "    transformed.load(data_dir=LOCAL_DATA_FOLDER)"
   ],
   "id": "fe3866ed5f17157b",
   "outputs": [
    {
     "name": "stderr",
     "output_type": "stream",
     "text": [
      "601988.SS: 100%|██████████| 84/84 [00:17<00:00,  4.87it/s]    \n"
     ]
    }
   ],
   "execution_count": 8
  },
  {
   "metadata": {},
   "cell_type": "markdown",
   "source": "## Step3: Train/Load Model",
   "id": "c261140f3b761e1c"
  },
  {
   "metadata": {
    "ExecuteTime": {
     "end_time": "2024-07-15T07:46:09.928578Z",
     "start_time": "2024-07-15T07:43:28.045693Z"
    }
   },
   "cell_type": "code",
   "source": [
    "# Suppress all warnings (not recommended in production unless necessary)\n",
    "warnings.filterwarnings(\"ignore\")\n",
    "\n",
    "trained = TrainModel(transformed=transformed)\n",
    "\n",
    "if TRAIN_MODEL:\n",
    "    trained.prepare_dataframe()  # prepare dataframes\n",
    "    trained.train_random_forest()  # train the model\n",
    "    trained.persist(data_dir=LOCAL_DATA_FOLDER)  # save the model to disk\n",
    "else:\n",
    "    trained.prepare_dataframe()  # prepare dataframes (incl. for inference)\n",
    "    trained.load(data_dir=LOCAL_DATA_FOLDER)"
   ],
   "id": "69a346151fc3a0bc",
   "outputs": [
    {
     "name": "stdout",
     "output_type": "stream",
     "text": [
      "Prepare the dataframe: define feature sets, add dummies, temporal split\n",
      "length: X_train (310453, 352),  X_validation (76373, 352), X_test (76883, 352)\n",
      "  X_train_valid = (386826, 352),  all combined: X_all (463709, 352)\n",
      "Training the best model (RandomForest (max_depth=18, n_estimators=500))\n"
     ]
    }
   ],
   "execution_count": 9
  },
  {
   "metadata": {},
   "cell_type": "markdown",
   "source": "## Step4: Inference",
   "id": "1760ff0ddc0bc9e8"
  },
  {
   "metadata": {},
   "cell_type": "markdown",
   "source": "Inference and simulation settings",
   "id": "37ba977f59a24ba2"
  },
  {
   "metadata": {
    "ExecuteTime": {
     "end_time": "2024-07-15T07:46:09.991341Z",
     "start_time": "2024-07-15T07:46:09.934285Z"
    }
   },
   "cell_type": "code",
   "source": [
    "sim_params = SimulationParams(\n",
    "    initial_capital = 10000,        # initial capital = $10k\n",
    "    threshold = 0.55,               # select all binary predictions with probability>=0.55\n",
    "    fees = 0.002,                   # trading fees = 0.2% (buy+sell)\n",
    "    top_k = 5,                      # select top_k predictions\n",
    "    portfolio_optimization=False,   # DOES NOT WORK now\n",
    "    stop_loss = 0.8,                # automatic sell (with loss) if price (any of next 5 days) is lower than -20% from Adj.Close\n",
    "    take_profit = 1.02,             # automatic sell (with profit) if price (any of next 5 days) is higher than +2% from Adj.Close\n",
    "    lower_entry = 0.99              # buy next day with the price = [Adj.Close] * 0.99 (try to buy cheaper)\n",
    ")"
   ],
   "id": "f237066ac578a670",
   "outputs": [],
   "execution_count": 10
  },
  {
   "metadata": {
    "ExecuteTime": {
     "end_time": "2024-07-15T07:46:14.066584Z",
     "start_time": "2024-07-15T07:46:09.995284Z"
    }
   },
   "cell_type": "code",
   "source": "trained.make_inference(sim_params)",
   "id": "116ed7b91609c095",
   "outputs": [
    {
     "name": "stdout",
     "output_type": "stream",
     "text": [
      "Making inference\n"
     ]
    }
   ],
   "execution_count": 11
  },
  {
   "metadata": {
    "ExecuteTime": {
     "end_time": "2024-07-15T07:46:14.199056Z",
     "start_time": "2024-07-15T07:46:14.067908Z"
    }
   },
   "cell_type": "code",
   "source": [
    "print('Results of the estimation (last 10):')\n",
    "# Set display options to prevent truncation\n",
    "pd.set_option('display.max_rows', None)\n",
    "pd.set_option('display.max_columns', None)\n",
    "pd.set_option('display.max_colwidth', None)\n",
    "\n",
    "predicted_signals = trained.get_last_signals(num=10)\n",
    "\n",
    "predicted_signals.tail(10)"
   ],
   "id": "c1279a6d7bb93844",
   "outputs": [
    {
     "name": "stdout",
     "output_type": "stream",
     "text": [
      "Results of the estimation (last 10):\n"
     ]
    },
    {
     "data": {
      "text/plain": [
       "        Adj Close         Ticker                      Date  pred_rf_best  \\\n",
       "7165   859.700012        SBIN.NS 2024-07-12 00:00:00+00:00             1   \n",
       "532   1051.550049        LICI.NS 2024-07-12 00:00:00+00:00             1   \n",
       "6306   708.799988          MC.PA 2024-07-15 00:00:00+00:00             1   \n",
       "6306  2139.000000         RMS.PA 2024-07-15 00:00:00+00:00             1   \n",
       "6306   410.649994          OR.PA 2024-07-15 00:00:00+00:00             1   \n",
       "7094   183.320007         SIE.DE 2024-07-15 00:00:00+00:00             1   \n",
       "8376   664.000000         CDI.PA 2024-07-15 00:00:00+00:00             1   \n",
       "7165  3193.199951    RELIANCE.NS 2024-07-15 00:00:00+00:00             1   \n",
       "5441  4198.149902         TCS.NS 2024-07-15 00:00:00+00:00             1   \n",
       "5470  1435.849976  BHARTIARTL.NS 2024-07-15 00:00:00+00:00             1   \n",
       "\n",
       "      pred_rf_best_rank  \n",
       "7165                7.0  \n",
       "532                 8.0  \n",
       "6306                1.0  \n",
       "6306                2.0  \n",
       "6306                3.0  \n",
       "7094                4.0  \n",
       "8376                5.0  \n",
       "7165                6.0  \n",
       "5441                7.0  \n",
       "5470                8.0  "
      ],
      "text/html": [
       "<div>\n",
       "<style scoped>\n",
       "    .dataframe tbody tr th:only-of-type {\n",
       "        vertical-align: middle;\n",
       "    }\n",
       "\n",
       "    .dataframe tbody tr th {\n",
       "        vertical-align: top;\n",
       "    }\n",
       "\n",
       "    .dataframe thead th {\n",
       "        text-align: right;\n",
       "    }\n",
       "</style>\n",
       "<table border=\"1\" class=\"dataframe\">\n",
       "  <thead>\n",
       "    <tr style=\"text-align: right;\">\n",
       "      <th></th>\n",
       "      <th>Adj Close</th>\n",
       "      <th>Ticker</th>\n",
       "      <th>Date</th>\n",
       "      <th>pred_rf_best</th>\n",
       "      <th>pred_rf_best_rank</th>\n",
       "    </tr>\n",
       "  </thead>\n",
       "  <tbody>\n",
       "    <tr>\n",
       "      <th>7165</th>\n",
       "      <td>859.700012</td>\n",
       "      <td>SBIN.NS</td>\n",
       "      <td>2024-07-12 00:00:00+00:00</td>\n",
       "      <td>1</td>\n",
       "      <td>7.0</td>\n",
       "    </tr>\n",
       "    <tr>\n",
       "      <th>532</th>\n",
       "      <td>1051.550049</td>\n",
       "      <td>LICI.NS</td>\n",
       "      <td>2024-07-12 00:00:00+00:00</td>\n",
       "      <td>1</td>\n",
       "      <td>8.0</td>\n",
       "    </tr>\n",
       "    <tr>\n",
       "      <th>6306</th>\n",
       "      <td>708.799988</td>\n",
       "      <td>MC.PA</td>\n",
       "      <td>2024-07-15 00:00:00+00:00</td>\n",
       "      <td>1</td>\n",
       "      <td>1.0</td>\n",
       "    </tr>\n",
       "    <tr>\n",
       "      <th>6306</th>\n",
       "      <td>2139.000000</td>\n",
       "      <td>RMS.PA</td>\n",
       "      <td>2024-07-15 00:00:00+00:00</td>\n",
       "      <td>1</td>\n",
       "      <td>2.0</td>\n",
       "    </tr>\n",
       "    <tr>\n",
       "      <th>6306</th>\n",
       "      <td>410.649994</td>\n",
       "      <td>OR.PA</td>\n",
       "      <td>2024-07-15 00:00:00+00:00</td>\n",
       "      <td>1</td>\n",
       "      <td>3.0</td>\n",
       "    </tr>\n",
       "    <tr>\n",
       "      <th>7094</th>\n",
       "      <td>183.320007</td>\n",
       "      <td>SIE.DE</td>\n",
       "      <td>2024-07-15 00:00:00+00:00</td>\n",
       "      <td>1</td>\n",
       "      <td>4.0</td>\n",
       "    </tr>\n",
       "    <tr>\n",
       "      <th>8376</th>\n",
       "      <td>664.000000</td>\n",
       "      <td>CDI.PA</td>\n",
       "      <td>2024-07-15 00:00:00+00:00</td>\n",
       "      <td>1</td>\n",
       "      <td>5.0</td>\n",
       "    </tr>\n",
       "    <tr>\n",
       "      <th>7165</th>\n",
       "      <td>3193.199951</td>\n",
       "      <td>RELIANCE.NS</td>\n",
       "      <td>2024-07-15 00:00:00+00:00</td>\n",
       "      <td>1</td>\n",
       "      <td>6.0</td>\n",
       "    </tr>\n",
       "    <tr>\n",
       "      <th>5441</th>\n",
       "      <td>4198.149902</td>\n",
       "      <td>TCS.NS</td>\n",
       "      <td>2024-07-15 00:00:00+00:00</td>\n",
       "      <td>1</td>\n",
       "      <td>7.0</td>\n",
       "    </tr>\n",
       "    <tr>\n",
       "      <th>5470</th>\n",
       "      <td>1435.849976</td>\n",
       "      <td>BHARTIARTL.NS</td>\n",
       "      <td>2024-07-15 00:00:00+00:00</td>\n",
       "      <td>1</td>\n",
       "      <td>8.0</td>\n",
       "    </tr>\n",
       "  </tbody>\n",
       "</table>\n",
       "</div>"
      ]
     },
     "execution_count": 12,
     "metadata": {},
     "output_type": "execute_result"
    }
   ],
   "execution_count": 12
  },
  {
   "metadata": {
    "ExecuteTime": {
     "end_time": "2024-07-15T07:46:22.293462Z",
     "start_time": "2024-07-15T07:46:14.201008Z"
    }
   },
   "cell_type": "code",
   "source": "res, capital = trained.simulate(sim_params)",
   "id": "ab2cdd26966e611f",
   "outputs": [
    {
     "name": "stdout",
     "output_type": "stream",
     "text": [
      "============================================================================================\n",
      "SIMULATION STARTED\n",
      "Simulations params: SimulationParams(initial_capital=10000, threshold=0.55, fees=0.002, top_k=5, portfolio_optimization=False, stop_loss=0.8, take_profit=1.02, lower_entry=0.99)\n",
      " Count bids 2452 in total, avg.bids per day 4.019672131147541,  filled bids 621, fill bids percent = 0.2532626427406199\n",
      "  Stop loss events: count = 2, net loss = -373.8079053388201 \n",
      "  Take profit events: count = 438, net profit = 5873.229442572396 \n",
      "  Start capital = 10000, Resulting capital: 13608.626598714014 \n",
      "  CAGR in 4 years: 1.08 or 8.01 % of avg. growth per year\n",
      "============================================================================================\n"
     ]
    }
   ],
   "execution_count": 13
  },
  {
   "metadata": {
    "ExecuteTime": {
     "end_time": "2024-07-15T07:46:22.297978Z",
     "start_time": "2024-07-15T07:46:22.294912Z"
    }
   },
   "cell_type": "code",
   "source": "",
   "id": "998e53fec9cc036e",
   "outputs": [],
   "execution_count": 13
  }
 ],
 "metadata": {
  "kernelspec": {
   "display_name": "Python 3",
   "language": "python",
   "name": "python3"
  },
  "language_info": {
   "codemirror_mode": {
    "name": "ipython",
    "version": 2
   },
   "file_extension": ".py",
   "mimetype": "text/x-python",
   "name": "python",
   "nbconvert_exporter": "python",
   "pygments_lexer": "ipython2",
   "version": "2.7.6"
  }
 },
 "nbformat": 4,
 "nbformat_minor": 5
}
